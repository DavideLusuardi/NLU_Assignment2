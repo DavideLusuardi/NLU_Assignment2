{
 "cells": [
  {
   "cell_type": "markdown",
   "metadata": {
    "id": "5rTFs4bMXMlX"
   },
   "source": [
    "# Import required libraries"
   ]
  },
  {
   "cell_type": "markdown",
   "metadata": {
    "id": "Q3Jt5qCZfv8R"
   },
   "source": [
    "Import the required libraries:\n",
    "*   `nltk`\n",
    "*   `spacy`\n",
    "*   `scikit-learn`\n",
    "*   `conll`\n",
    "*   `pandas`\n",
    "*   `operator`\n"
   ]
  },
  {
   "cell_type": "code",
   "execution_count": 2,
   "metadata": {
    "id": "d4uNdFpeuROE"
   },
   "outputs": [],
   "source": [
    "import nltk\n",
    "from nltk.corpus.reader import ConllCorpusReader\n",
    "\n",
    "import spacy\n",
    "from spacy import displacy\n",
    "nlp = spacy.load('en_core_web_sm')\n",
    "\n",
    "from sklearn.metrics import classification_report\n",
    "\n",
    "# to import conll\n",
    "from conll import evaluate\n",
    "\n",
    "# for nice tables\n",
    "import pandas as pd\n",
    "import operator"
   ]
  },
  {
   "cell_type": "markdown",
   "metadata": {
    "id": "w1bggsqhdZG0"
   },
   "source": [
    "# 0. Evaluate spaCy NER on CoNLL 2003 data\n"
   ]
  },
  {
   "cell_type": "markdown",
   "metadata": {
    "id": "nRZLuHhbZ8La"
   },
   "source": [
    "The function `remerge_sent()` merges the tokens of doc when the token is not followed by a whitespace (e.g. `01-01-2021` date is tokenized by spaCy as five different tokens and we need to merge them together).\n",
    "Merging tokens is required in order to align the token of CoNLL 2003 data with that found by spaCy.\n",
    "This method, as pointed out by the creator of spaCy [here](https://github.com/explosion/spaCy/issues/379), is the best way to put the tokens back together."
   ]
  },
  {
   "cell_type": "code",
   "execution_count": 3,
   "metadata": {
    "id": "cQ2OxgRYtYG_"
   },
   "outputs": [],
   "source": [
    "def remerge_sent(doc):\n",
    "  ''' Merge tokens of doc when tokens are not followed by a whitespace.\n",
    "  '''\n",
    "  with doc.retokenize() as retokenizer:\n",
    "    i = 0\n",
    "    while i < len(doc)-1:            \n",
    "      tok = doc[i]\n",
    "      # check if there isn't a whitespace after the token in the original sentence\n",
    "      if not tok.whitespace_:\n",
    "        j = i+1\n",
    "        # find the last token index to merge\n",
    "        while j < len(doc) and not doc[j].whitespace_:\n",
    "            j += 1\n",
    "        \n",
    "        # in-place operation.\n",
    "        retokenizer.merge(doc[i:j+1])\n",
    "\n",
    "        i = j+1\n",
    "      else:\n",
    "        i += 1"
   ]
  },
  {
   "cell_type": "markdown",
   "metadata": {
    "id": "kPp1_sewHdgR"
   },
   "source": [
    "The function `get_doc_from_sent_list()` accepts a list of words that represents a sentence, applies spaCy pipeline, gets a `Doc` object and merges tokens not followed by a whitespace."
   ]
  },
  {
   "cell_type": "code",
   "execution_count": 4,
   "metadata": {
    "id": "WDofTk8hETKO"
   },
   "outputs": [],
   "source": [
    "def get_doc_from_sent_list(sent_list):\n",
    "  ''' Get spaCy doc from a list of words and apply remerge_sent().\n",
    "  '''\n",
    "  sentence = ' '.join([text for text, pos, iob in sent_list])\n",
    "  doc = nlp(sentence)\n",
    "  remerge_sent(doc)\n",
    "\n",
    "  return doc"
   ]
  },
  {
   "cell_type": "markdown",
   "metadata": {
    "id": "v0BlRdo5cC6w"
   },
   "source": [
    "Read CoNLL 2003 data using the `ConllCorpusReader()` function from `nltk` and remove empty lists using `filter()`."
   ]
  },
  {
   "cell_type": "code",
   "execution_count": 5,
   "metadata": {
    "id": "slPuw24acCNr"
   },
   "outputs": [],
   "source": [
    "train = list(filter(None, ConllCorpusReader('data/conll2003', 'train.txt', ['words', 'pos', 'ignore', 'chunk', 'ne']).iob_sents() ))\n",
    "test = list(filter(None, ConllCorpusReader('data/conll2003', 'test.txt', ['words', 'pos', 'ignore', 'chunk', 'ne']).iob_sents() ))"
   ]
  },
  {
   "cell_type": "code",
   "execution_count": 6,
   "metadata": {
    "id": "VbaVpE2DxNvM"
   },
   "outputs": [],
   "source": [
    "# getting references\n",
    "refs = [[(text, iob) for text, pos, iob in sent] for sent in test]\n",
    "\n",
    "# getting spaCy documents needed to obtain the hypothesis list\n",
    "doc_hyps = [get_doc_from_sent_list(sent) for sent in test]\n",
    "tok_hyps = [[t for t in doc] for doc in doc_hyps]"
   ]
  },
  {
   "cell_type": "markdown",
   "metadata": {
    "id": "-crQJq1BH7wO"
   },
   "source": [
    "Find the mapping between spaCy and CoNLL entity types.\n",
    "Each entity type of spaCy is mapped to the entity type of CoNLL with the maximum occurrences wrt. training set sentences. The function below calculates how many times a spaCy entity type corresponds to a CoNLL type in the test sentence and then gets the maximum one. It returns a dictionary, mapping spaCy entity types to CoNLL types."
   ]
  },
  {
   "cell_type": "code",
   "execution_count": 7,
   "metadata": {
    "id": "vjAWIdIXqcYX"
   },
   "outputs": [],
   "source": [
    "def get_spacy2conll_mapping(train):\n",
    "  ''' Find the mapping between spacy and CoNLL entity types.\n",
    "  Each entity type of spacy is mapped to the entity type of CoNLL with the\n",
    "  maximum occurrences wrt. training set sentences.\n",
    "  '''\n",
    "  refs = [[(text, iob) for text, pos, iob in sent] for sent in train]\n",
    "  tok_hyps = [[t for t in get_doc_from_sent_list(sent)] for sent in train]\n",
    "\n",
    "  hyp_ref_mapping_counter = {'':{}}\n",
    "  for r_sent, h_sent in zip(refs, tok_hyps):\n",
    "    for r, h in zip(r_sent, h_sent):\n",
    "      if r[1] != 'O' or h.ent_iob_ != 'O':\n",
    "        if h.ent_type_ not in hyp_ref_mapping_counter:\n",
    "          hyp_ref_mapping_counter[h.ent_type_] = dict()\n",
    "        \n",
    "        iob_label = 'O'      \n",
    "        if len(r[1].split('-')) > 1:\n",
    "          iob_label = r[1].split('-')[1]\n",
    "\n",
    "        if iob_label not in hyp_ref_mapping_counter[h.ent_type_]:\n",
    "          hyp_ref_mapping_counter[h.ent_type_][iob_label] = 1\n",
    "        else:\n",
    "          hyp_ref_mapping_counter[h.ent_type_][iob_label] += 1\n",
    "\n",
    "  # calculate spacy-to-conll entity types mapping\n",
    "  spacy2conll_mapping = dict()\n",
    "  for k,v in hyp_ref_mapping_counter.items():\n",
    "    # take the mapping with the maximum occurrences\n",
    "    spacy2conll_mapping[k] = max(v.items(), key=operator.itemgetter(1))[0]\n",
    "\n",
    "  return spacy2conll_mapping"
   ]
  },
  {
   "cell_type": "code",
   "execution_count": 8,
   "metadata": {
    "colab": {
     "base_uri": "https://localhost:8080/"
    },
    "id": "axT4dTpVzeOT",
    "outputId": "b397d0f6-b0cf-4ea2-974f-91c833fa909d"
   },
   "outputs": [
    {
     "name": "stdout",
     "output_type": "stream",
     "text": [
      "{'': 'ORG', 'ORG': 'ORG', 'NORP': 'MISC', 'PERSON': 'PER', 'DATE': 'O', 'GPE': 'LOC', 'LOC': 'LOC', 'CARDINAL': 'O', 'QUANTITY': 'O', 'PERCENT': 'O', 'MONEY': 'O', 'LANGUAGE': 'MISC', 'TIME': 'O', 'ORDINAL': 'O', 'PRODUCT': 'ORG', 'EVENT': 'MISC', 'FAC': 'LOC', 'LAW': 'MISC', 'WORK_OF_ART': 'O'}\n"
     ]
    }
   ],
   "source": [
    "spacy2conll_mapping = get_spacy2conll_mapping(train[:4000]) # consider only the first 4000 sentences to speed up computation\n",
    "print(spacy2conll_mapping)"
   ]
  },
  {
   "cell_type": "markdown",
   "metadata": {
    "id": "Ya178rtW_zW7"
   },
   "source": [
    "Create an hypothesis list where spaCy IOB labels are mapped to CoNLL labels, using the dictionary `spacy2conll_mapping` calculated before.\n",
    "\n",
    "The parameter `ext_entities` should be set to `True` when named entities have been extended. In this way, user defined attributes are going to be used."
   ]
  },
  {
   "cell_type": "code",
   "execution_count": 9,
   "metadata": {
    "id": "UZh4Ip5oVRJM"
   },
   "outputs": [],
   "source": [
    "def spacy2conll_hyps(doc_hyps, ext_entities=False):\n",
    "  conll_hyps = list()\n",
    "  for doc in doc_hyps:\n",
    "    sent_list = list()\n",
    "    for t in doc:\n",
    "      # map spacy iob to conll iob\n",
    "      if ext_entities: # extended named entities, use user defined attributes\n",
    "        if t._.ent_iob_ == 'O' or spacy2conll_mapping[t._.ent_type_] == 'O':\n",
    "          iob = 'O'\n",
    "        else:\n",
    "          iob = '-'.join([t._.ent_iob_, spacy2conll_mapping[t._.ent_type_]])\n",
    "      else:\n",
    "        if t.ent_iob_ == 'O' or spacy2conll_mapping[t.ent_type_] == 'O':\n",
    "          iob = 'O'\n",
    "        else:\n",
    "          iob = '-'.join([t.ent_iob_, spacy2conll_mapping[t.ent_type_]])\n",
    "\n",
    "      sent_list.append((t.text, iob))\n",
    "\n",
    "    conll_hyps.append(sent_list)\n",
    "  \n",
    "  return conll_hyps"
   ]
  },
  {
   "cell_type": "code",
   "execution_count": 10,
   "metadata": {
    "id": "e_tKv6m-EGnh"
   },
   "outputs": [],
   "source": [
    "conll_hyps = spacy2conll_hyps(doc_hyps)"
   ]
  },
  {
   "cell_type": "markdown",
   "metadata": {
    "id": "-dXJS99A2e5A"
   },
   "source": [
    "## 0.1 Report token-level performance (per class and total)."
   ]
  },
  {
   "cell_type": "markdown",
   "metadata": {
    "id": "1FS0T_mdAhhU"
   },
   "source": [
    "Using `sklearn.classification_report()`, show token-level performance results."
   ]
  },
  {
   "cell_type": "code",
   "execution_count": 11,
   "metadata": {
    "colab": {
     "base_uri": "https://localhost:8080/"
    },
    "id": "qTqRDJLgl3Rl",
    "outputId": "4679c2cb-7332-498a-8ddf-7f3668c6ffd7"
   },
   "outputs": [
    {
     "name": "stdout",
     "output_type": "stream",
     "text": [
      "              precision    recall  f1-score   support\n",
      "\n",
      "       B-LOC      0.760     0.681     0.718      1668\n",
      "      B-MISC      0.802     0.541     0.646       702\n",
      "       B-ORG      0.503     0.309     0.383      1661\n",
      "       B-PER      0.800     0.629     0.704      1617\n",
      "       I-LOC      0.535     0.560     0.548       257\n",
      "      I-MISC      0.555     0.352     0.431       216\n",
      "       I-ORG      0.415     0.515     0.460       835\n",
      "       I-PER      0.838     0.788     0.812      1156\n",
      "           O      0.949     0.981     0.965     38323\n",
      "\n",
      "    accuracy                          0.909     46435\n",
      "   macro avg      0.684     0.595     0.630     46435\n",
      "weighted avg      0.902     0.909     0.904     46435\n",
      "\n"
     ]
    }
   ],
   "source": [
    "report = classification_report([r[1] for r_sent in refs for r in r_sent], [r[1] for r_sent in conll_hyps for r in r_sent], digits=3)\n",
    "print(report)"
   ]
  },
  {
   "cell_type": "markdown",
   "metadata": {
    "id": "UORpgunw2t9c"
   },
   "source": [
    "## 0.2 Report CoNLL chunk-level performance (per class and total)."
   ]
  },
  {
   "cell_type": "markdown",
   "metadata": {
    "id": "8wSCOD_qJUYH"
   },
   "source": [
    "Using the `evaluate()` function from `conll.py`, show chunk-level performance of spaCy pre-trained model. "
   ]
  },
  {
   "cell_type": "code",
   "execution_count": 12,
   "metadata": {
    "colab": {
     "base_uri": "https://localhost:8080/",
     "height": 195
    },
    "id": "db7o_659Vke8",
    "outputId": "b5586302-2c85-42e3-f4fa-540fc50107a7"
   },
   "outputs": [
    {
     "data": {
      "text/html": [
       "<div>\n",
       "<style scoped>\n",
       "    .dataframe tbody tr th:only-of-type {\n",
       "        vertical-align: middle;\n",
       "    }\n",
       "\n",
       "    .dataframe tbody tr th {\n",
       "        vertical-align: top;\n",
       "    }\n",
       "\n",
       "    .dataframe thead th {\n",
       "        text-align: right;\n",
       "    }\n",
       "</style>\n",
       "<table border=\"1\" class=\"dataframe\">\n",
       "  <thead>\n",
       "    <tr style=\"text-align: right;\">\n",
       "      <th></th>\n",
       "      <th>p</th>\n",
       "      <th>r</th>\n",
       "      <th>f</th>\n",
       "      <th>s</th>\n",
       "    </tr>\n",
       "  </thead>\n",
       "  <tbody>\n",
       "    <tr>\n",
       "      <th>ORG</th>\n",
       "      <td>0.452</td>\n",
       "      <td>0.278</td>\n",
       "      <td>0.344</td>\n",
       "      <td>1661</td>\n",
       "    </tr>\n",
       "    <tr>\n",
       "      <th>LOC</th>\n",
       "      <td>0.748</td>\n",
       "      <td>0.671</td>\n",
       "      <td>0.708</td>\n",
       "      <td>1668</td>\n",
       "    </tr>\n",
       "    <tr>\n",
       "      <th>MISC</th>\n",
       "      <td>0.791</td>\n",
       "      <td>0.534</td>\n",
       "      <td>0.638</td>\n",
       "      <td>702</td>\n",
       "    </tr>\n",
       "    <tr>\n",
       "      <th>PER</th>\n",
       "      <td>0.774</td>\n",
       "      <td>0.609</td>\n",
       "      <td>0.681</td>\n",
       "      <td>1617</td>\n",
       "    </tr>\n",
       "    <tr>\n",
       "      <th>total</th>\n",
       "      <td>0.690</td>\n",
       "      <td>0.521</td>\n",
       "      <td>0.593</td>\n",
       "      <td>5648</td>\n",
       "    </tr>\n",
       "  </tbody>\n",
       "</table>\n",
       "</div>"
      ],
      "text/plain": [
       "           p      r      f     s\n",
       "ORG    0.452  0.278  0.344  1661\n",
       "LOC    0.748  0.671  0.708  1668\n",
       "MISC   0.791  0.534  0.638   702\n",
       "PER    0.774  0.609  0.681  1617\n",
       "total  0.690  0.521  0.593  5648"
      ]
     },
     "execution_count": 12,
     "metadata": {},
     "output_type": "execute_result"
    }
   ],
   "source": [
    "results = evaluate(refs, conll_hyps)\n",
    "pd_tbl = pd.DataFrame().from_dict(results, orient='index')\n",
    "pd_tbl.round(decimals=3)"
   ]
  },
  {
   "cell_type": "markdown",
   "metadata": {
    "id": "VuemCVIZddAz"
   },
   "source": [
    "# 1. Grouping of Entities"
   ]
  },
  {
   "cell_type": "markdown",
   "metadata": {
    "id": "dyIxyQEdCwEG"
   },
   "source": [
    "The function `group_entities()` groups more named entities when part of a noun chunk, otherwise the named entity is treated as a group of one element. The function returns a list-of-list containing the different groups.\n",
    "\n",
    "The function proceeds grouping entities that are part of a noun chunk and that are between two noun chunks, till the end of the document."
   ]
  },
  {
   "cell_type": "code",
   "execution_count": 1,
   "metadata": {
    "id": "PC66G7pSuVGn"
   },
   "outputs": [],
   "source": [
    "def group_entities(doc):\n",
    "  noun_chunks = list(doc.noun_chunks)\n",
    "  groups = []\n",
    "\n",
    "  first_chunk_start = len(doc)\n",
    "  if len(noun_chunks) > 0:\n",
    "    first_chunk_start = noun_chunks[0].start\n",
    "\n",
    "  # group named entities (groups of one element) before the first noun chunk\n",
    "  groups += [[ent.label_] for ent in doc[:first_chunk_start].ents]\n",
    "\n",
    "  for i, chunk in enumerate(noun_chunks):\n",
    "    # group named entities that are in this noun chunk\n",
    "    g = [ent.label_ for ent in chunk.ents]\n",
    "    if len(g) > 0:\n",
    "      groups.append(g)\n",
    "\n",
    "    if i == len(noun_chunks)-1:\n",
    "      span = doc[chunk.end:]\n",
    "    else:\n",
    "      span = doc[chunk.end:noun_chunks[i+1].start]\n",
    "    \n",
    "    # group named entities (groups of one element) between this noun chunk and the next one\n",
    "    groups += [[ent.label_] for ent in span.ents]\n",
    "\n",
    "  return groups"
   ]
  },
  {
   "cell_type": "markdown",
   "metadata": {
    "id": "jIsflygVLBc2"
   },
   "source": [
    "Example of grouping entities."
   ]
  },
  {
   "cell_type": "code",
   "execution_count": 14,
   "metadata": {
    "colab": {
     "base_uri": "https://localhost:8080/"
    },
    "id": "c4evMIBIDyTj",
    "outputId": "48c0a074-08dc-40f0-ab54-10bccba1b105"
   },
   "outputs": [
    {
     "name": "stdout",
     "output_type": "stream",
     "text": [
      "[['ORG', 'PERSON'], ['DATE'], ['GPE'], ['GPE']]\n"
     ]
    }
   ],
   "source": [
    "sent = \"Apple's Steve Jobs died in 2011 in Palo Alto, California.\"\n",
    "print(group_entities(nlp(sent)))"
   ]
  },
  {
   "cell_type": "markdown",
   "metadata": {},
   "source": [
    "## Frequency of groups"
   ]
  },
  {
   "cell_type": "markdown",
   "metadata": {
    "id": "s0FGRP9OCobg"
   },
   "source": [
    "Calculate frequency of each group of entity types. It has been decided to treat groups with the same elements but different order as different because order can be important in this analysis. The list of group types with their frequency in the descending order is shown below.\n",
    "\n",
    "The most frequent groups with more than one element are:\n",
    "```\n",
    "CARDINAL-PERSON: 52\n",
    "NORP-PERSON:     42\n",
    "GPE-PERSON:      35\n",
    "GPE-GPE:         24\n",
    "```"
   ]
  },
  {
   "cell_type": "code",
   "execution_count": 28,
   "metadata": {
    "colab": {
     "base_uri": "https://localhost:8080/"
    },
    "id": "Ra5oTajwWrhG",
    "outputId": "62ab017d-0208-4beb-bbe2-eb7516e92161"
   },
   "outputs": [
    {
     "name": "stdout",
     "output_type": "stream",
     "text": [
      "group entity types             frequency       occurrencies\n",
      "------------------------------------------------------------\n",
      "CARDINAL                       0.230221        1583\n",
      "GPE                            0.181937        1251\n",
      "PERSON                         0.153287        1054\n",
      "DATE                           0.12929         889\n",
      "ORG                            0.11591         797\n",
      "NORP                           0.04203         289\n",
      "MONEY                          0.020361        140\n",
      "ORDINAL                        0.015416        106\n",
      "PERCENT                        0.011344        78\n",
      "TIME                           0.010908        75\n",
      "EVENT                          0.007853        54\n",
      "CARDINAL-PERSON                0.007563        52\n",
      "LOC                            0.007417        51\n",
      "QUANTITY                       0.006981        48\n",
      "NORP-PERSON                    0.006108        42\n",
      "GPE-PERSON                     0.00509         35\n",
      "GPE-GPE                        0.00349         24\n",
      "PRODUCT                        0.003054        21\n",
      "ORG-PERSON                     0.003054        21\n",
      "FAC                            0.002909        20\n",
      "CARDINAL-ORG                   0.002327        16\n",
      "CARDINAL-NORP                  0.002182        15\n",
      "CARDINAL-GPE                   0.001891        13\n",
      "GPE-ORG                        0.001891        13\n",
      "GPE-PRODUCT                    0.001309        9\n",
      "DATE-EVENT                     0.001163        8\n",
      "DATE-ORG                       0.001163        8\n",
      "ORG-ORG                        0.001163        8\n",
      "WORK_OF_ART                    0.001018        7\n",
      "PERSON-PERSON                  0.001018        7\n",
      "NORP-ORG                       0.001018        7\n",
      "DATE-TIME                      0.001018        7\n",
      "ORG-DATE                       0.000873        6\n",
      "LANGUAGE                       0.000873        6\n",
      "GPE-DATE                       0.000727        5\n",
      "NORP-ORDINAL                   0.000727        5\n",
      "ORG-GPE                        0.000727        5\n",
      "DATE-NORP                      0.000727        5\n",
      "GPE-ORDINAL                    0.000582        4\n",
      "CARDINAL-CARDINAL              0.000582        4\n",
      "GPE-CARDINAL                   0.000582        4\n",
      "ORG-NORP                       0.000582        4\n",
      "PERSON-GPE                     0.000582        4\n",
      "PERSON-CARDINAL                0.000436        3\n",
      "NORP-NORP                      0.000436        3\n",
      "PERSON-PERSON-PERSON           0.000291        2\n",
      "CARDINAL-ORDINAL               0.000291        2\n",
      "CARDINAL-CARDINAL-PERSON       0.000291        2\n",
      "CARDINAL-DATE                  0.000291        2\n",
      "ORG-CARDINAL                   0.000291        2\n",
      "ORG-ORDINAL                    0.000291        2\n",
      "LANGUAGE-ORDINAL               0.000291        2\n",
      "GPE-DATE-ORG                   0.000291        2\n",
      "ORDINAL-EVENT                  0.000291        2\n",
      "GPE-LOC                        0.000291        2\n",
      "ORDINAL-PERSON                 0.000291        2\n",
      "CARDINAL-CARDINAL-ORG          0.000291        2\n",
      "QUANTITY-QUANTITY              0.000291        2\n",
      "DATE-NORP-PERSON               0.000291        2\n",
      "GPE-FAC                        0.000291        2\n",
      "ORDINAL-NORP                   0.000145        1\n",
      "GPE-PERSON-CARDINAL            0.000145        1\n",
      "ORDINAL-DATE                   0.000145        1\n",
      "ORG-GPE-ORDINAL                0.000145        1\n",
      "ORG-QUANTITY                   0.000145        1\n",
      "CARDINAL-PERSON-CARDINAL       0.000145        1\n",
      "PERCENT-CARDINAL               0.000145        1\n",
      "NORP-DATE                      0.000145        1\n",
      "PERSON-NORP                    0.000145        1\n",
      "PERSON-ORG                     0.000145        1\n",
      "LOC-DATE                       0.000145        1\n",
      "DATE-FAC                       0.000145        1\n",
      "CARDINAL-CARDINAL-NORP         0.000145        1\n",
      "NORP-PERSON-DATE               0.000145        1\n",
      "LOC-ORDINAL                    0.000145        1\n",
      "PRODUCT-GPE                    0.000145        1\n",
      "NORP-LOC                       0.000145        1\n",
      "ORDINAL-GPE                    0.000145        1\n",
      "MONEY-DATE                     0.000145        1\n",
      "CARDINAL-PERCENT               0.000145        1\n",
      "DATE-WORK_OF_ART               0.000145        1\n",
      "MONEY-MONEY                    0.000145        1\n",
      "MONEY-CARDINAL-CARDINAL-ORG    0.000145        1\n",
      "CARDINAL-GPE-TIME              0.000145        1\n",
      "FAC-GPE                        0.000145        1\n",
      "ORG-WORK_OF_ART                0.000145        1\n",
      "GPE-ORDINAL-PERSON             0.000145        1\n",
      "CARDINAL-LOC                   0.000145        1\n",
      "PERSON-MONEY                   0.000145        1\n",
      "MONEY-PRODUCT                  0.000145        1\n",
      "DATE-PERSON                    0.000145        1\n",
      "PERSON-GPE-CARDINAL            0.000145        1\n",
      "ORDINAL-ORG                    0.000145        1\n",
      "PERSON-ORDINAL                 0.000145        1\n",
      "EVENT-ORDINAL                  0.000145        1\n",
      "GPE-NORP                       0.000145        1\n",
      "PERSON-FAC                     0.000145        1\n",
      "ORDINAL-TIME                   0.000145        1\n",
      "DATE-LANGUAGE-ORDINAL          0.000145        1\n",
      "CARDINAL-EVENT                 0.000145        1\n"
     ]
    }
   ],
   "source": [
    "occurrencies = dict() # number of occurrencies for each group\n",
    "for doc in doc_hyps:\n",
    "  groups = group_entities(doc)\n",
    "  for g in groups:\n",
    "    k = '-'.join(g) # groups with same elements but different order are counted as different\n",
    "    if k not in occurrencies: # add to dict if not present\n",
    "      occurrencies[k] = 1\n",
    "    else:\n",
    "      occurrencies[k] += 1\n",
    "\n",
    "total = sum(occurrencies.values())\n",
    "print(\"{:30} {:<15} {}\\n{}\".format(\"group entity types\", \"frequency\", \"occurrencies\", \"-\"*60))\n",
    "for k,v in sorted(occurrencies.items(), key=operator.itemgetter(1), reverse=True):\n",
    "  print(\"{:30} {:<15} {}\".format(k, round(v/total, 6), v))"
   ]
  },
  {
   "cell_type": "markdown",
   "metadata": {
    "id": "XO0dDI4qcJun"
   },
   "source": [
    "# 2. Fix segmentation errors"
   ]
  },
  {
   "cell_type": "markdown",
   "metadata": {
    "id": "Oe4eM4ja5_Cl"
   },
   "source": [
    "Add user defined attributes `ent_iob_`, `ent_type_` and `ent_id` to `Token` class. These attributes are used to extend named entities without modifing the original `doc`. The attribute `ent_id` is used to identify named entities in the function `extend_entity()`."
   ]
  },
  {
   "cell_type": "code",
   "execution_count": 16,
   "metadata": {
    "id": "XXzfp49mDsvv"
   },
   "outputs": [],
   "source": [
    "token = nlp(\".\")[0] # get a token\n",
    "token.set_extension(\"ent_iob_\", default='O', force=True)\n",
    "token.set_extension(\"ent_type_\", default='', force=True)\n",
    "token.set_extension(\"ent_id\", default=None, force=True)"
   ]
  },
  {
   "cell_type": "markdown",
   "metadata": {
    "id": "ZcFphshhwTN7"
   },
   "source": [
    "The function `extend_entity_p2c_rec()` extends recursively named entities from a parent token that is part of an entity to a child token that is not. Child token must have a `'compound'` dependency relation with its parent. Child token attribute `ent_iob_` is initially assigned to `'I'` and successively the function `extend_entity()` reassign it correctly."
   ]
  },
  {
   "cell_type": "code",
   "execution_count": 17,
   "metadata": {
    "id": "NGBWAFvmtu4x"
   },
   "outputs": [],
   "source": [
    "def extend_entity_p2c_rec(token):\n",
    "  for child_token in token.children:\n",
    "    if token._.ent_iob_ != 'O' and child_token.ent_iob_ == 'O' and child_token.dep_ == 'compound':\n",
    "      # set child token as part of the entity\n",
    "      child_token._.ent_iob_ = 'I'\n",
    "      child_token._.ent_type_ = token._.ent_type_\n",
    "      child_token._.ent_id = token._.ent_id\n",
    "    else:\n",
    "      child_token._.ent_iob_ = child_token.ent_iob_\n",
    "      child_token._.ent_type_ = child_token.ent_type_\n",
    "\n",
    "    extend_entity_p2c_rec(child_token)    "
   ]
  },
  {
   "cell_type": "markdown",
   "metadata": {
    "id": "KcXAE_Rdz170"
   },
   "source": [
    "The function `extend_entity_c2p_rec()` extends recursively named entities from a child token that is part of an entity to a parent token that is not. Child token must have a `'compound'` dependency relation with its parent. Parent token attribute `ent_iob_` is initially assigned to `'I'` and successively the function `extend_entity()` reassigns it correctly. The dependency tree is visited in post-order."
   ]
  },
  {
   "cell_type": "code",
   "execution_count": 18,
   "metadata": {
    "id": "wE_D64wytxwG"
   },
   "outputs": [],
   "source": [
    "def extend_entity_c2p_rec(token):\n",
    "  token._.ent_iob_ = token.ent_iob_\n",
    "  token._.ent_type_ = token.ent_type_\n",
    "\n",
    "  for child_token in token.children:\n",
    "    extend_entity_c2p_rec(child_token)\n",
    "    if child_token._.ent_iob_ != 'O' and token.ent_iob_ == 'O' and child_token.dep_ == 'compound':\n",
    "      token._.ent_iob_ = 'I'\n",
    "      token._.ent_type_ = child_token._.ent_type_\n",
    "      token._.ent_id = child_token._.ent_id"
   ]
  },
  {
   "cell_type": "markdown",
   "metadata": {
    "id": "Ud8RSCe10gGR"
   },
   "source": [
    "The function `extend_entity()` invokes the previous functions to extend named entities. If `p2c` parameter is set to `True`, named entities are extended from parent to child tokens (`extend_entity_p2c_rec()`), otherwise named entities are extended from child to parent tokens (`extend_entity_c2p_rec()`).\n",
    "Both versions have been implemented in order to compare the results.\n",
    "\n",
    "First the function assigns to each token the entity id that it belongs to, invokes one of the two functions to extend named entities recursively from the head of the sentence and then changes the value of the attribute `ent_iob_` of each token in order to correctly assign `'B'` to the first token of the entity and `'I'` to the successive ones."
   ]
  },
  {
   "cell_type": "code",
   "execution_count": 19,
   "metadata": {
    "id": "PltnLeqKdsP6"
   },
   "outputs": [],
   "source": [
    "def extend_entity(doc_hyps, p2c):\n",
    "  for doc in doc_hyps:\n",
    "    # assign an id to each recognized named entity\n",
    "    for i, ent in enumerate(doc.ents):\n",
    "      for token in ent:\n",
    "        token._.ent_id = i\n",
    "    \n",
    "    # extend named entities\n",
    "    for token in doc:\n",
    "      if token.head == token: # root token\n",
    "        if p2c: # if p2c is True, apply parent-to-child extension\n",
    "          token._.ent_iob_ = token.ent_iob_\n",
    "          token._.ent_type_ = token.ent_type_\n",
    "          extend_entity_p2c_rec(token)\n",
    "        else: # else apply child-to-parent\n",
    "          extend_entity_c2p_rec(token)\n",
    "\n",
    "    # assign ent_iob_ correctly to each extended entity\n",
    "    entity_ids = set()\n",
    "    for token in doc:\n",
    "      if token._.ent_id is not None:\n",
    "        if token._.ent_id not in entity_ids:\n",
    "          token._.ent_iob_ = 'B'\n",
    "          entity_ids.add(token._.ent_id)\n",
    "        else:\n",
    "          token._.ent_iob_ = 'I'\n"
   ]
  },
  {
   "cell_type": "markdown",
   "metadata": {
    "id": "fkV8prEd3fgA"
   },
   "source": [
    "Example of extending named entities where the token `'university'` is added to the named entity `'New York'` because token `'York'` has a `'compound'` relation to `'university'`."
   ]
  },
  {
   "cell_type": "code",
   "execution_count": 20,
   "metadata": {
    "colab": {
     "base_uri": "https://localhost:8080/",
     "height": 402
    },
    "id": "JM6cnSr-cLOv",
    "outputId": "41fdb901-0ce4-44e8-f9c0-f809d3c5b25e"
   },
   "outputs": [
    {
     "data": {
      "text/html": [
       "<span class=\"tex2jax_ignore\"><div class=\"entities\" style=\"line-height: 2.5; direction: ltr\">\n",
       "<mark class=\"entity\" style=\"background: #feca74; padding: 0.45em 0.6em; margin: 0 0.25em; line-height: 1; border-radius: 0.35em;\">\n",
       "    New York\n",
       "    <span style=\"font-size: 0.8em; font-weight: bold; line-height: 1; border-radius: 0.35em; vertical-align: middle; margin-left: 0.5rem\">GPE</span>\n",
       "</mark>\n",
       " university was established in \n",
       "<mark class=\"entity\" style=\"background: #bfe1d9; padding: 0.45em 0.6em; margin: 0 0.25em; line-height: 1; border-radius: 0.35em;\">\n",
       "    1000\n",
       "    <span style=\"font-size: 0.8em; font-weight: bold; line-height: 1; border-radius: 0.35em; vertical-align: middle; margin-left: 0.5rem\">DATE</span>\n",
       "</mark>\n",
       ".</div></span>"
      ],
      "text/plain": [
       "<IPython.core.display.HTML object>"
      ]
     },
     "metadata": {},
     "output_type": "display_data"
    },
    {
     "data": {
      "text/html": [
       "<span class=\"tex2jax_ignore\"><svg xmlns=\"http://www.w3.org/2000/svg\" xmlns:xlink=\"http://www.w3.org/1999/xlink\" xml:lang=\"en\" id=\"b4acb534e103415bab268bedcfc49ff8-0\" class=\"displacy\" width=\"1275\" height=\"312.0\" direction=\"ltr\" style=\"max-width: none; height: 312.0px; color: #000000; background: #ffffff; font-family: Arial; direction: ltr\">\n",
       "<text class=\"displacy-token\" fill=\"currentColor\" text-anchor=\"middle\" y=\"222.0\">\n",
       "    <tspan class=\"displacy-word\" fill=\"currentColor\" x=\"50\">New</tspan>\n",
       "    <tspan class=\"displacy-tag\" dy=\"2em\" fill=\"currentColor\" x=\"50\">PROPN</tspan>\n",
       "</text>\n",
       "\n",
       "<text class=\"displacy-token\" fill=\"currentColor\" text-anchor=\"middle\" y=\"222.0\">\n",
       "    <tspan class=\"displacy-word\" fill=\"currentColor\" x=\"225\">York</tspan>\n",
       "    <tspan class=\"displacy-tag\" dy=\"2em\" fill=\"currentColor\" x=\"225\">PROPN</tspan>\n",
       "</text>\n",
       "\n",
       "<text class=\"displacy-token\" fill=\"currentColor\" text-anchor=\"middle\" y=\"222.0\">\n",
       "    <tspan class=\"displacy-word\" fill=\"currentColor\" x=\"400\">university</tspan>\n",
       "    <tspan class=\"displacy-tag\" dy=\"2em\" fill=\"currentColor\" x=\"400\">NOUN</tspan>\n",
       "</text>\n",
       "\n",
       "<text class=\"displacy-token\" fill=\"currentColor\" text-anchor=\"middle\" y=\"222.0\">\n",
       "    <tspan class=\"displacy-word\" fill=\"currentColor\" x=\"575\">was</tspan>\n",
       "    <tspan class=\"displacy-tag\" dy=\"2em\" fill=\"currentColor\" x=\"575\">AUX</tspan>\n",
       "</text>\n",
       "\n",
       "<text class=\"displacy-token\" fill=\"currentColor\" text-anchor=\"middle\" y=\"222.0\">\n",
       "    <tspan class=\"displacy-word\" fill=\"currentColor\" x=\"750\">established</tspan>\n",
       "    <tspan class=\"displacy-tag\" dy=\"2em\" fill=\"currentColor\" x=\"750\">VERB</tspan>\n",
       "</text>\n",
       "\n",
       "<text class=\"displacy-token\" fill=\"currentColor\" text-anchor=\"middle\" y=\"222.0\">\n",
       "    <tspan class=\"displacy-word\" fill=\"currentColor\" x=\"925\">in</tspan>\n",
       "    <tspan class=\"displacy-tag\" dy=\"2em\" fill=\"currentColor\" x=\"925\">ADP</tspan>\n",
       "</text>\n",
       "\n",
       "<text class=\"displacy-token\" fill=\"currentColor\" text-anchor=\"middle\" y=\"222.0\">\n",
       "    <tspan class=\"displacy-word\" fill=\"currentColor\" x=\"1100\">1000.</tspan>\n",
       "    <tspan class=\"displacy-tag\" dy=\"2em\" fill=\"currentColor\" x=\"1100\">NUM</tspan>\n",
       "</text>\n",
       "\n",
       "<g class=\"displacy-arrow\">\n",
       "    <path class=\"displacy-arc\" id=\"arrow-b4acb534e103415bab268bedcfc49ff8-0-0\" stroke-width=\"2px\" d=\"M70,177.0 C70,89.5 220.0,89.5 220.0,177.0\" fill=\"none\" stroke=\"currentColor\"/>\n",
       "    <text dy=\"1.25em\" style=\"font-size: 0.8em; letter-spacing: 1px\">\n",
       "        <textPath xlink:href=\"#arrow-b4acb534e103415bab268bedcfc49ff8-0-0\" class=\"displacy-label\" startOffset=\"50%\" side=\"left\" fill=\"currentColor\" text-anchor=\"middle\">compound</textPath>\n",
       "    </text>\n",
       "    <path class=\"displacy-arrowhead\" d=\"M70,179.0 L62,167.0 78,167.0\" fill=\"currentColor\"/>\n",
       "</g>\n",
       "\n",
       "<g class=\"displacy-arrow\">\n",
       "    <path class=\"displacy-arc\" id=\"arrow-b4acb534e103415bab268bedcfc49ff8-0-1\" stroke-width=\"2px\" d=\"M245,177.0 C245,89.5 395.0,89.5 395.0,177.0\" fill=\"none\" stroke=\"currentColor\"/>\n",
       "    <text dy=\"1.25em\" style=\"font-size: 0.8em; letter-spacing: 1px\">\n",
       "        <textPath xlink:href=\"#arrow-b4acb534e103415bab268bedcfc49ff8-0-1\" class=\"displacy-label\" startOffset=\"50%\" side=\"left\" fill=\"currentColor\" text-anchor=\"middle\">compound</textPath>\n",
       "    </text>\n",
       "    <path class=\"displacy-arrowhead\" d=\"M245,179.0 L237,167.0 253,167.0\" fill=\"currentColor\"/>\n",
       "</g>\n",
       "\n",
       "<g class=\"displacy-arrow\">\n",
       "    <path class=\"displacy-arc\" id=\"arrow-b4acb534e103415bab268bedcfc49ff8-0-2\" stroke-width=\"2px\" d=\"M420,177.0 C420,2.0 750.0,2.0 750.0,177.0\" fill=\"none\" stroke=\"currentColor\"/>\n",
       "    <text dy=\"1.25em\" style=\"font-size: 0.8em; letter-spacing: 1px\">\n",
       "        <textPath xlink:href=\"#arrow-b4acb534e103415bab268bedcfc49ff8-0-2\" class=\"displacy-label\" startOffset=\"50%\" side=\"left\" fill=\"currentColor\" text-anchor=\"middle\">nsubjpass</textPath>\n",
       "    </text>\n",
       "    <path class=\"displacy-arrowhead\" d=\"M420,179.0 L412,167.0 428,167.0\" fill=\"currentColor\"/>\n",
       "</g>\n",
       "\n",
       "<g class=\"displacy-arrow\">\n",
       "    <path class=\"displacy-arc\" id=\"arrow-b4acb534e103415bab268bedcfc49ff8-0-3\" stroke-width=\"2px\" d=\"M595,177.0 C595,89.5 745.0,89.5 745.0,177.0\" fill=\"none\" stroke=\"currentColor\"/>\n",
       "    <text dy=\"1.25em\" style=\"font-size: 0.8em; letter-spacing: 1px\">\n",
       "        <textPath xlink:href=\"#arrow-b4acb534e103415bab268bedcfc49ff8-0-3\" class=\"displacy-label\" startOffset=\"50%\" side=\"left\" fill=\"currentColor\" text-anchor=\"middle\">auxpass</textPath>\n",
       "    </text>\n",
       "    <path class=\"displacy-arrowhead\" d=\"M595,179.0 L587,167.0 603,167.0\" fill=\"currentColor\"/>\n",
       "</g>\n",
       "\n",
       "<g class=\"displacy-arrow\">\n",
       "    <path class=\"displacy-arc\" id=\"arrow-b4acb534e103415bab268bedcfc49ff8-0-4\" stroke-width=\"2px\" d=\"M770,177.0 C770,89.5 920.0,89.5 920.0,177.0\" fill=\"none\" stroke=\"currentColor\"/>\n",
       "    <text dy=\"1.25em\" style=\"font-size: 0.8em; letter-spacing: 1px\">\n",
       "        <textPath xlink:href=\"#arrow-b4acb534e103415bab268bedcfc49ff8-0-4\" class=\"displacy-label\" startOffset=\"50%\" side=\"left\" fill=\"currentColor\" text-anchor=\"middle\">prep</textPath>\n",
       "    </text>\n",
       "    <path class=\"displacy-arrowhead\" d=\"M920.0,179.0 L928.0,167.0 912.0,167.0\" fill=\"currentColor\"/>\n",
       "</g>\n",
       "\n",
       "<g class=\"displacy-arrow\">\n",
       "    <path class=\"displacy-arc\" id=\"arrow-b4acb534e103415bab268bedcfc49ff8-0-5\" stroke-width=\"2px\" d=\"M945,177.0 C945,89.5 1095.0,89.5 1095.0,177.0\" fill=\"none\" stroke=\"currentColor\"/>\n",
       "    <text dy=\"1.25em\" style=\"font-size: 0.8em; letter-spacing: 1px\">\n",
       "        <textPath xlink:href=\"#arrow-b4acb534e103415bab268bedcfc49ff8-0-5\" class=\"displacy-label\" startOffset=\"50%\" side=\"left\" fill=\"currentColor\" text-anchor=\"middle\">pobj</textPath>\n",
       "    </text>\n",
       "    <path class=\"displacy-arrowhead\" d=\"M1095.0,179.0 L1103.0,167.0 1087.0,167.0\" fill=\"currentColor\"/>\n",
       "</g>\n",
       "</svg></span>"
      ],
      "text/plain": [
       "<IPython.core.display.HTML object>"
      ]
     },
     "metadata": {},
     "output_type": "display_data"
    },
    {
     "name": "stdout",
     "output_type": "stream",
     "text": [
      "[('New', 'B', 'GPE'), ('York', 'I', 'GPE'), ('university', 'O', ''), ('was', 'O', ''), ('established', 'O', ''), ('in', 'O', ''), ('1000', 'B', 'DATE'), ('.', 'O', '')]\n",
      "[('New', 'B', 'GPE'), ('York', 'I', 'GPE'), ('university', 'I', 'GPE'), ('was', 'O', ''), ('established', 'O', ''), ('in', 'O', ''), ('1000', 'B', 'DATE'), ('.', 'O', '')]\n"
     ]
    }
   ],
   "source": [
    "sent = \"New York university was established in 1000.\"\n",
    "doc = nlp(sent)\n",
    "\n",
    "displacy.render(doc, jupyter=True, style=\"ent\")\n",
    "displacy.render(doc, jupyter=True)\n",
    "\n",
    "# before extend named entities\n",
    "print([(t.text, t.ent_iob_, t.ent_type_) for t in doc])\n",
    "\n",
    "# extend named entities (child-to-parent)\n",
    "extend_entity([doc], p2c=False)\n",
    "print([(t.text, t._.ent_iob_, t._.ent_type_) for t in doc])"
   ]
  },
  {
   "cell_type": "markdown",
   "metadata": {
    "id": "bL2a31GbEvpf"
   },
   "source": [
    "## Comparing results"
   ]
  },
  {
   "cell_type": "markdown",
   "metadata": {
    "id": "q3amrcKgFEWW"
   },
   "source": [
    "Show token-level and chunk-level performance results of extended named entities, extending from parent to child."
   ]
  },
  {
   "cell_type": "code",
   "execution_count": 21,
   "metadata": {
    "colab": {
     "base_uri": "https://localhost:8080/",
     "height": 204
    },
    "id": "aabW9q1uBFO8",
    "outputId": "8742fa6d-4c25-465c-d996-7353a15ec2e0"
   },
   "outputs": [
    {
     "data": {
      "text/html": [
       "<div>\n",
       "<style scoped>\n",
       "    .dataframe tbody tr th:only-of-type {\n",
       "        vertical-align: middle;\n",
       "    }\n",
       "\n",
       "    .dataframe tbody tr th {\n",
       "        vertical-align: top;\n",
       "    }\n",
       "\n",
       "    .dataframe thead th {\n",
       "        text-align: right;\n",
       "    }\n",
       "</style>\n",
       "<table border=\"1\" class=\"dataframe\">\n",
       "  <thead>\n",
       "    <tr style=\"text-align: right;\">\n",
       "      <th></th>\n",
       "      <th>p</th>\n",
       "      <th>r</th>\n",
       "      <th>f</th>\n",
       "      <th>s</th>\n",
       "    </tr>\n",
       "  </thead>\n",
       "  <tbody>\n",
       "    <tr>\n",
       "      <th>ORG</th>\n",
       "      <td>0.442</td>\n",
       "      <td>0.272</td>\n",
       "      <td>0.337</td>\n",
       "      <td>1661</td>\n",
       "    </tr>\n",
       "    <tr>\n",
       "      <th>LOC</th>\n",
       "      <td>0.724</td>\n",
       "      <td>0.651</td>\n",
       "      <td>0.686</td>\n",
       "      <td>1668</td>\n",
       "    </tr>\n",
       "    <tr>\n",
       "      <th>MISC</th>\n",
       "      <td>0.787</td>\n",
       "      <td>0.533</td>\n",
       "      <td>0.636</td>\n",
       "      <td>702</td>\n",
       "    </tr>\n",
       "    <tr>\n",
       "      <th>PER</th>\n",
       "      <td>0.644</td>\n",
       "      <td>0.508</td>\n",
       "      <td>0.568</td>\n",
       "      <td>1617</td>\n",
       "    </tr>\n",
       "    <tr>\n",
       "      <th>total</th>\n",
       "      <td>0.640</td>\n",
       "      <td>0.484</td>\n",
       "      <td>0.551</td>\n",
       "      <td>5648</td>\n",
       "    </tr>\n",
       "  </tbody>\n",
       "</table>\n",
       "</div>"
      ],
      "text/plain": [
       "           p      r      f     s\n",
       "ORG    0.442  0.272  0.337  1661\n",
       "LOC    0.724  0.651  0.686  1668\n",
       "MISC   0.787  0.533  0.636   702\n",
       "PER    0.644  0.508  0.568  1617\n",
       "total  0.640  0.484  0.551  5648"
      ]
     },
     "execution_count": 21,
     "metadata": {},
     "output_type": "execute_result"
    }
   ],
   "source": [
    "extend_entity(doc_hyps, p2c=True)\n",
    "ext_p2c_hyps = spacy2conll_hyps(doc_hyps, ext_entities=True)\n",
    "extended_entity_results = evaluate(refs, ext_p2c_hyps)\n",
    "pd_tbl = pd.DataFrame().from_dict(extended_entity_results, orient='index')\n",
    "pd_tbl.round(decimals=3)"
   ]
  },
  {
   "cell_type": "code",
   "execution_count": 22,
   "metadata": {
    "colab": {
     "base_uri": "https://localhost:8080/"
    },
    "id": "kJ-0iJUm-IB2",
    "outputId": "dee61a21-cf46-4b76-a59a-655ac0930862"
   },
   "outputs": [
    {
     "name": "stdout",
     "output_type": "stream",
     "text": [
      "              precision    recall  f1-score   support\n",
      "\n",
      "       B-LOC      0.736     0.660     0.696      1668\n",
      "      B-MISC      0.800     0.540     0.645       702\n",
      "       B-ORG      0.495     0.305     0.377      1661\n",
      "       B-PER      0.668     0.525     0.588      1617\n",
      "       I-LOC      0.439     0.560     0.492       257\n",
      "      I-MISC      0.539     0.352     0.426       216\n",
      "       I-ORG      0.402     0.522     0.454       835\n",
      "       I-PER      0.683     0.797     0.735      1156\n",
      "           O      0.950     0.973     0.961     38323\n",
      "\n",
      "    accuracy                          0.898     46435\n",
      "   macro avg      0.635     0.582     0.597     46435\n",
      "weighted avg      0.892     0.898     0.893     46435\n",
      "\n"
     ]
    }
   ],
   "source": [
    "report = classification_report([r[1] for r_sent in refs for r in r_sent], [r[1] for r_sent in ext_p2c_hyps for r in r_sent], digits=3)\n",
    "print(report)"
   ]
  },
  {
   "cell_type": "markdown",
   "metadata": {
    "id": "s7H0OMe-ZT1j"
   },
   "source": [
    "Show token-level and chunk-level performance results of extended named entities, extending from child to parent."
   ]
  },
  {
   "cell_type": "code",
   "execution_count": 23,
   "metadata": {
    "colab": {
     "base_uri": "https://localhost:8080/",
     "height": 204
    },
    "id": "c5CjhJ7r5cXt",
    "outputId": "6c4493ac-586c-4679-c387-e94ecdb4f538"
   },
   "outputs": [
    {
     "data": {
      "text/html": [
       "<div>\n",
       "<style scoped>\n",
       "    .dataframe tbody tr th:only-of-type {\n",
       "        vertical-align: middle;\n",
       "    }\n",
       "\n",
       "    .dataframe tbody tr th {\n",
       "        vertical-align: top;\n",
       "    }\n",
       "\n",
       "    .dataframe thead th {\n",
       "        text-align: right;\n",
       "    }\n",
       "</style>\n",
       "<table border=\"1\" class=\"dataframe\">\n",
       "  <thead>\n",
       "    <tr style=\"text-align: right;\">\n",
       "      <th></th>\n",
       "      <th>p</th>\n",
       "      <th>r</th>\n",
       "      <th>f</th>\n",
       "      <th>s</th>\n",
       "    </tr>\n",
       "  </thead>\n",
       "  <tbody>\n",
       "    <tr>\n",
       "      <th>ORG</th>\n",
       "      <td>0.289</td>\n",
       "      <td>0.224</td>\n",
       "      <td>0.253</td>\n",
       "      <td>1661</td>\n",
       "    </tr>\n",
       "    <tr>\n",
       "      <th>LOC</th>\n",
       "      <td>0.688</td>\n",
       "      <td>0.627</td>\n",
       "      <td>0.656</td>\n",
       "      <td>1668</td>\n",
       "    </tr>\n",
       "    <tr>\n",
       "      <th>MISC</th>\n",
       "      <td>0.710</td>\n",
       "      <td>0.489</td>\n",
       "      <td>0.579</td>\n",
       "      <td>702</td>\n",
       "    </tr>\n",
       "    <tr>\n",
       "      <th>PER</th>\n",
       "      <td>0.764</td>\n",
       "      <td>0.602</td>\n",
       "      <td>0.674</td>\n",
       "      <td>1617</td>\n",
       "    </tr>\n",
       "    <tr>\n",
       "      <th>total</th>\n",
       "      <td>0.599</td>\n",
       "      <td>0.484</td>\n",
       "      <td>0.536</td>\n",
       "      <td>5648</td>\n",
       "    </tr>\n",
       "  </tbody>\n",
       "</table>\n",
       "</div>"
      ],
      "text/plain": [
       "           p      r      f     s\n",
       "ORG    0.289  0.224  0.253  1661\n",
       "LOC    0.688  0.627  0.656  1668\n",
       "MISC   0.710  0.489  0.579   702\n",
       "PER    0.764  0.602  0.674  1617\n",
       "total  0.599  0.484  0.536  5648"
      ]
     },
     "execution_count": 23,
     "metadata": {},
     "output_type": "execute_result"
    }
   ],
   "source": [
    "extend_entity(doc_hyps, p2c=False)\n",
    "ext_c2p_hyps = spacy2conll_hyps(doc_hyps, ext_entities=True)\n",
    "extended_entity_results = evaluate(refs, ext_c2p_hyps)\n",
    "pd_tbl = pd.DataFrame().from_dict(extended_entity_results, orient='index')\n",
    "pd_tbl.round(decimals=3)"
   ]
  },
  {
   "cell_type": "code",
   "execution_count": 24,
   "metadata": {
    "colab": {
     "base_uri": "https://localhost:8080/"
    },
    "id": "9v8stvj3-Uo3",
    "outputId": "a1125702-3c6c-4477-da40-4afa749d5138"
   },
   "outputs": [
    {
     "name": "stdout",
     "output_type": "stream",
     "text": [
      "              precision    recall  f1-score   support\n",
      "\n",
      "       B-LOC      0.760     0.662     0.708      1668\n",
      "      B-MISC      0.805     0.540     0.646       702\n",
      "       B-ORG      0.419     0.317     0.361      1661\n",
      "       B-PER      0.791     0.541     0.642      1617\n",
      "       I-LOC      0.315     0.576     0.407       257\n",
      "      I-MISC      0.374     0.356     0.365       216\n",
      "       I-ORG      0.332     0.526     0.407       835\n",
      "       I-PER      0.708     0.800     0.751      1156\n",
      "           O      0.951     0.964     0.957     38323\n",
      "\n",
      "    accuracy                          0.892     46435\n",
      "   macro avg      0.606     0.587     0.583     46435\n",
      "weighted avg      0.894     0.892     0.890     46435\n",
      "\n"
     ]
    }
   ],
   "source": [
    "report = classification_report([r[1] for r_sent in refs for r in r_sent], [r[1] for r_sent in ext_c2p_hyps for r in r_sent], digits=3)\n",
    "print(report)"
   ]
  },
  {
   "cell_type": "markdown",
   "metadata": {
    "id": "6Hu48p9HZbbm"
   },
   "source": [
    "We can conclude that extending named entities using the `'compound'` relation is not a great choice. Performances are lower than in the original NER of spaCy."
   ]
  },
  {
   "cell_type": "code",
   "execution_count": null,
   "metadata": {},
   "outputs": [],
   "source": []
  }
 ],
 "metadata": {
  "colab": {
   "collapsed_sections": [
    "5rTFs4bMXMlX"
   ],
   "name": "Assignment2.2.ipynb",
   "provenance": [],
   "toc_visible": true
  },
  "kernelspec": {
   "display_name": "Python 3",
   "language": "python",
   "name": "python3"
  },
  "language_info": {
   "codemirror_mode": {
    "name": "ipython",
    "version": 3
   },
   "file_extension": ".py",
   "mimetype": "text/x-python",
   "name": "python",
   "nbconvert_exporter": "python",
   "pygments_lexer": "ipython3",
   "version": "3.8.5"
  }
 },
 "nbformat": 4,
 "nbformat_minor": 1
}
